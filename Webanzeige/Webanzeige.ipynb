{
 "cells": [
  {
   "cell_type": "markdown",
   "id": "78a9e862",
   "metadata": {},
   "source": [
    "## Webanzeige\n"
   ]
  }
 ],
 "metadata": {
  "language_info": {
   "name": "python"
  }
 },
 "nbformat": 4,
 "nbformat_minor": 5
}
