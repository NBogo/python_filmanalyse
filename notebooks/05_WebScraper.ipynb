{
 "cells": [
  {
   "cell_type": "code",
   "execution_count": 1,
   "id": "382810b9",
   "metadata": {},
   "outputs": [
    {
     "name": "stdout",
     "output_type": "stream",
     "text": [
      "   Rank Peak                         Title   Worldwide gross  Year  \\\n",
      "0     1    1                        Avatar    $2,923,706,026  2009   \n",
      "1     2    1             Avengers: Endgame    $2,797,501,328  2019   \n",
      "2     3    3      Avatar: The Way of Water    $2,320,250,281  2022   \n",
      "3     4    1                       Titanic   T$2,257,844,554  1997   \n",
      "4     5    5                    Ne Zha 2 †    $2,199,200,000  2025   \n",
      "5     6    3  Star Wars: The Force Awakens    $2,068,223,624  2015   \n",
      "6     7    4        Avengers: Infinity War    $2,048,359,754  2018   \n",
      "7     8    6       Spider-Man: No Way Home  SM$1,922,598,800  2021   \n",
      "8     9    8                  Inside Out 2    $1,698,863,816  2024   \n",
      "9    10    3                Jurassic World    $1,671,537,444  2015   \n",
      "\n",
      "            Ref  \n",
      "0    [# 1][# 2]  \n",
      "1    [# 3][# 4]  \n",
      "2    [# 5][# 6]  \n",
      "3    [# 7][# 8]  \n",
      "4   [# 9][# 10]  \n",
      "5  [# 11][# 12]  \n",
      "6  [# 13][# 14]  \n",
      "7  [# 15][# 16]  \n",
      "8  [# 17][# 18]  \n",
      "9  [# 19][# 20]  \n"
     ]
    }
   ],
   "source": [
    "import pandas as pd\n",
    "\n",
    "url = \"https://en.wikipedia.org/wiki/List_of_highest-grossing_films\"\n",
    "tables = pd.read_html(url)  # Returns a list of all tables on the page\n",
    "\n",
    "# The first table is the \"top 50 highest-grossing films\"\n",
    "df = tables[0]\n",
    "\n",
    "# Show the first 10 rows\n",
    "print(df.head(10))\n",
    "\n",
    "# Save as CSV if needed\n",
    "df.to_csv(\"highest_grossing_movies.csv\", index=False)"
   ]
  }
 ],
 "metadata": {
  "kernelspec": {
   "display_name": "Python 3",
   "language": "python",
   "name": "python3"
  },
  "language_info": {
   "codemirror_mode": {
    "name": "ipython",
    "version": 3
   },
   "file_extension": ".py",
   "mimetype": "text/x-python",
   "name": "python",
   "nbconvert_exporter": "python",
   "pygments_lexer": "ipython3",
   "version": "3.11.12"
  }
 },
 "nbformat": 4,
 "nbformat_minor": 5
}
