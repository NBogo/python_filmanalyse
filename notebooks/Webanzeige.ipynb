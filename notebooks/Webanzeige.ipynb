{
 "cells": [
  {
   "cell_type": "markdown",
   "id": "78a9e862",
   "metadata": {},
   "source": []
  }
 ],
 "metadata": {
  "language_info": {
   "name": "python"
  }
 },
 "nbformat": 4,
 "nbformat_minor": 5
}
