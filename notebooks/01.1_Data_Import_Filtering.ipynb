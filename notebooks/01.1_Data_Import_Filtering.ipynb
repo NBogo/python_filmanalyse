{
 "cells": [
  {
   "cell_type": "markdown",
   "id": "b92d7c69",
   "metadata": {},
   "source": [
    "## Efficient IMDb Data Import and Filtering\n",
    "\n",
    "We read the large IMDb `title.basics.tsv` file in chunks to avoid memory issues.  \n",
    "Only entries where `titleType` is `'movie'` and `startYear` is present are kept.  \n",
    "The filtered chunks are then combined into a single DataFrame."
   ]
  },
  {
   "cell_type": "code",
   "execution_count": 2,
   "id": "1a5c3279",
   "metadata": {},
   "outputs": [],
   "source": [
    "import pandas as pd\n",
    "\n",
    "\n",
    "usecols = ['tconst', 'titleType', 'primaryTitle', 'startYear', 'genres']\n",
    "\n",
    "\n",
    "chunks = pd.read_csv(\n",
    "    \"../data/raw/title.basics-2.tsv\",\n",
    "    sep='\\t',\n",
    "    dtype=str,\n",
    "    na_values='\\\\N',\n",
    "    usecols=usecols,\n",
    "    chunksize=100_000\n",
    ")\n",
    "\n",
    "filtered_chunks = []\n",
    "for chunk in chunks:\n",
    "    movies = chunk[chunk['titleType'] == 'movie']\n",
    "    movies = movies[movies['startYear'].notna()]\n",
    "    filtered_chunks.append(movies)\n",
    "\n",
    "\n",
    "basics = pd.concat(filtered_chunks, ignore_index=True)\n"
   ]
  },
  {
   "cell_type": "markdown",
   "id": "fa065e00",
   "metadata": {},
   "source": [
    "## Load and Prepare IMDb Ratings Data\n",
    "\n",
    "We load the `title.ratings.tsv` file and convert the relevant columns to numeric types.  \n",
    "This step prepares the `averageRating` and `numVotes` fields for further analysis and merging with movie data."
   ]
  },
  {
   "cell_type": "code",
   "execution_count": 3,
   "id": "a69bb3fe",
   "metadata": {},
   "outputs": [],
   "source": [
    "ratings = pd.read_csv(\n",
    "    \"../data/raw/title.ratings.tsv\",\n",
    "    sep='\\t',\n",
    "    dtype=str,\n",
    "    na_values='\\\\N'\n",
    ")\n",
    "\n",
    "ratings = ratings[['tconst', 'averageRating', 'numVotes']]\n",
    "ratings['averageRating'] = pd.to_numeric(ratings['averageRating'], errors='coerce')\n",
    "ratings['numVotes'] = pd.to_numeric(ratings['numVotes'], errors='coerce')"
   ]
  },
  {
   "cell_type": "markdown",
   "id": "6a59771f",
   "metadata": {},
   "source": [
    "## Merge Movie Information with Ratings\n",
    "\n",
    "We join the cleaned movie data (`basics`) with the ratings data on the `tconst` identifier.  \n",
    "This results in a combined dataset that includes title, year, genres, average rating, and number of votes for each film.\n"
   ]
  },
  {
   "cell_type": "code",
   "execution_count": 4,
   "id": "1cc7e09d",
   "metadata": {},
   "outputs": [],
   "source": [
    "import sqlite3\n",
    "\n",
    "conn = sqlite3.connect(\"../data/raw/imdb.sqlite\")  \n",
    "basics.to_sql(\"basics\", conn, if_exists=\"replace\", index=False)\n",
    "ratings.to_sql(\"ratings\", conn, if_exists=\"replace\", index=False)\n",
    "conn.close()"
   ]
  }
 ],
 "metadata": {
  "kernelspec": {
   "display_name": "Python 3",
   "language": "python",
   "name": "python3"
  },
  "language_info": {
   "codemirror_mode": {
    "name": "ipython",
    "version": 3
   },
   "file_extension": ".py",
   "mimetype": "text/x-python",
   "name": "python",
   "nbconvert_exporter": "python",
   "pygments_lexer": "ipython3",
   "version": "3.11.12"
  }
 },
 "nbformat": 4,
 "nbformat_minor": 5
}
