{
 "cells": [
  {
   "cell_type": "markdown",
   "metadata": {},
   "source": [
    "### Statistische Analyse: Zusammenhang zwischen Bewertung und Stimmenanzahl\n",
    "\n",
    "Um zu prüfen, ob es einen statistischen Zusammenhang zwischen der **Anzahl der abgegebenen Stimmen** (`numVotes`) und der **durchschnittlichen IMDb-Bewertung** (`averageRating`) gibt, wurde der **Pearson-Korrelationskoeffizient** berechnet.\n"
   ]
  },
  {
   "cell_type": "code",
   "execution_count": null,
   "metadata": {},
   "outputs": [
    {
     "name": "stdout",
     "output_type": "stream",
     "text": [
      "Korrelation: 0.011\n",
      "p-Wert: 0.00000\n"
     ]
    }
   ],
   "source": [
    "import sqlite3\n",
    "import pandas as pd\n",
    "\n",
    "conn = sqlite3.connect(\"../data/raw/imdb.sqlite\") \n",
    "df = pd.read_sql_query(\"\"\"\n",
    "    SELECT averageRating, numVotes\n",
    "    FROM basics\n",
    "    JOIN ratings USING(tconst)\n",
    "    WHERE averageRating IS NOT NULL AND numVotes IS NOT NULL\n",
    "\"\"\", conn)\n",
    "conn.close()\n",
    "\n",
    "from scipy.stats import pearsonr\n",
    "\n",
    "# Korrelation zwischen Bewertung und Stimmenanzahl\n",
    "x = df[\"numVotes\"]\n",
    "y = df[\"averageRating\"]\n",
    "\n",
    "corr, pval = pearsonr(x, y)\n",
    "print(f\"Korrelation: {corr:.3f}\")\n",
    "print(f\"p-Wert: {pval:.5f}\")"
   ]
  },
  {
   "cell_type": "markdown",
   "metadata": {},
   "source": [
    "## Fazit der statistischen Analyse\n",
    "\n",
    "Die Untersuchung des Zusammenhangs zwischen der Anzahl der abgegebenen Stimmen (`numVotes`) und der durchschnittlichen IMDb-Bewertung (`averageRating`) zeigt ein interessantes Ergebnis:\n",
    "\n",
    "- Die berechnete **Korrelation von 0.011** ist nahezu null → es besteht **kein relevanter linearer Zusammenhang** zwischen den beiden Variablen.\n",
    "- Trotz des extrem niedrigen **p-Werts (< 0.00001)**, der statistische Signifikanz anzeigt, ist das Ergebnis **inhaltlich nicht bedeutsam**.\n",
    "- Die Signifikanz entsteht höchstwahrscheinlich durch die **große Stichprobengröße**, nicht durch die Stärke des Effekts.\n",
    "\n",
    "**Schlussfolgerung:**\n",
    "\n",
    "Die durchschnittliche Bewertung eines Films auf IMDb ist **nicht davon abhängig**, wie viele Stimmen er erhalten hat.  \n",
    "Sowohl bekannte als auch weniger bekannte Filme erhalten im Mittel ähnliche Bewertungen.  \n",
    "Das widerspricht der häufigen Annahme, dass populäre Filme automatisch besser bewertet werden – zumindest im linearen Zusammenhang.\n",
    "\n",
    "Für weiterführende Analysen wären z. B. nichtlineare Zusammenhänge, Ausreißerverhalten oder Genre-spezifische Korrelationen interessant."
   ]
  }
 ],
 "metadata": {
  "kernelspec": {
   "display_name": ".venv",
   "language": "python",
   "name": "python3"
  },
  "language_info": {
   "codemirror_mode": {
    "name": "ipython",
    "version": 3
   },
   "file_extension": ".py",
   "mimetype": "text/x-python",
   "name": "python",
   "nbconvert_exporter": "python",
   "pygments_lexer": "ipython3",
   "version": "3.11.12"
  }
 },
 "nbformat": 4,
 "nbformat_minor": 5
}
