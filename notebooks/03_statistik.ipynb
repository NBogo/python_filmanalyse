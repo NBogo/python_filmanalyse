{
 "cells": [
  {
   "cell_type": "markdown",
   "metadata": {},
   "source": [
    "### Statistical Analysis: Relationship Between Rating and Number of Votes\n",
    "\n",
    "To examine whether there is a statistical relationship between the **number of votes** (`numVotes`)  \n",
    "and the **average IMDb rating** (`averageRating`), the **Pearson correlation coefficient** was calculated.\n"
   ]
  },
  {
   "cell_type": "code",
   "execution_count": 1,
   "metadata": {},
   "outputs": [
    {
     "name": "stdout",
     "output_type": "stream",
     "text": [
      "Correlation coefficient: 0.061\n",
      "p-value: 0.00000\n"
     ]
    }
   ],
   "source": [
    "import sqlite3\n",
    "import pandas as pd\n",
    "from scipy.stats import pearsonr\n",
    "\n",
    "# Datenbankabfrage\n",
    "conn = sqlite3.connect(\"../data/raw/imdb.sqlite\") \n",
    "df = pd.read_sql_query(\"\"\"\n",
    "    SELECT averageRating, numVotes\n",
    "    FROM basics\n",
    "    JOIN ratings USING(tconst)\n",
    "    WHERE averageRating IS NOT NULL AND numVotes IS NOT NULL\n",
    "\"\"\", conn)\n",
    "conn.close()\n",
    "\n",
    "# Umwandeln in numerische Werte\n",
    "df[\"numVotes\"] = pd.to_numeric(df[\"numVotes\"], errors=\"coerce\")\n",
    "df[\"averageRating\"] = pd.to_numeric(df[\"averageRating\"], errors=\"coerce\")\n",
    "\n",
    "# Korrelation berechnen\n",
    "x = df[\"numVotes\"]\n",
    "y = df[\"averageRating\"]\n",
    "\n",
    "corr, pval = pearsonr(x, y)\n",
    "print(f\"Correlation coefficient: {corr:.3f}\")\n",
    "print(f\"p-value: {pval:.5f}\")\n"
   ]
  },
  {
   "cell_type": "markdown",
   "metadata": {},
   "source": [
    "## Conclusion of the Statistical Analysis\n",
    "\n",
    "The investigation into the relationship between the number of votes (`numVotes`)  \n",
    "and the average IMDb rating (`averageRating`) yields an interesting result:\n",
    "\n",
    "- The calculated **correlation of 0.011** is close to zero → there is **no meaningful linear relationship** between the two variables.\n",
    "- Despite the extremely low **p-value (< 0.00001)** indicating statistical significance, the result is **not practically relevant**.\n",
    "- The significance is most likely due to the **large sample size**, not the strength of the effect.\n",
    "\n",
    "**Conclusion:**\n",
    "\n",
    "The average rating of a movie on IMDb is **not dependent** on how many votes it has received.  \n",
    "Both widely known and lesser-known films tend to receive similar average ratings.  \n",
    "This challenges the common assumption that popular films are automatically rated higher – at least in a linear sense.\n",
    "\n",
    "For further analysis, it may be worth exploring **nonlinear relationships**, **outlier behavior**, or **genre-specific correlations**.\n"
   ]
  }
 ],
 "metadata": {
  "kernelspec": {
   "display_name": "Python 3",
   "language": "python",
   "name": "python3"
  },
  "language_info": {
   "codemirror_mode": {
    "name": "ipython",
    "version": 3
   },
   "file_extension": ".py",
   "mimetype": "text/x-python",
   "name": "python",
   "nbconvert_exporter": "python",
   "pygments_lexer": "ipython3",
   "version": "3.11.12"
  }
 },
 "nbformat": 4,
 "nbformat_minor": 5
}
