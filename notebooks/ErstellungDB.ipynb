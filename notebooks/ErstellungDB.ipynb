{
 "cells": [
  {
   "cell_type": "markdown",
   "id": "b92d7c69",
   "metadata": {},
   "source": [
    "## Erstellung der SQL Datei"
   ]
  },
  {
   "cell_type": "code",
   "execution_count": 1,
   "id": "1a5c3279",
   "metadata": {},
   "outputs": [],
   "source": [
    "import pandas as pd\n",
    "\n",
    "# Zielspalten\n",
    "usecols = ['tconst', 'titleType', 'primaryTitle', 'startYear', 'genres']\n",
    "\n",
    "# Basics-Datei in kleinen Portionen einlesen\n",
    "chunks = pd.read_csv(\n",
    "    \"../data/raw/title.basics-2.tsv\",\n",
    "    sep='\\t',\n",
    "    dtype=str,\n",
    "    na_values='\\\\N',\n",
    "    usecols=usecols,\n",
    "    chunksize=100_000\n",
    ")\n",
    "\n",
    "# Nur relevante Zeilen aus jedem Chunk sammeln\n",
    "filtered_chunks = []\n",
    "for chunk in chunks:\n",
    "    movies = chunk[chunk['titleType'] == 'movie']\n",
    "    movies = movies[movies['startYear'].notna()]\n",
    "    filtered_chunks.append(movies)\n",
    "\n",
    "# Alle Ergebnisse zusammenfügen\n",
    "basics = pd.concat(filtered_chunks, ignore_index=True)\n"
   ]
  },
  {
   "cell_type": "code",
   "execution_count": 2,
   "id": "a69bb3fe",
   "metadata": {},
   "outputs": [],
   "source": [
    "ratings = pd.read_csv(\n",
    "    \"../data/raw/title.ratings.tsv\",\n",
    "    sep='\\t',\n",
    "    dtype=str,\n",
    "    na_values='\\\\N'\n",
    ")\n",
    "\n",
    "ratings = ratings[['tconst', 'averageRating', 'numVotes']]\n",
    "ratings['averageRating'] = pd.to_numeric(ratings['averageRating'], errors='coerce')\n",
    "ratings['numVotes'] = pd.to_numeric(ratings['numVotes'], errors='coerce')"
   ]
  },
  {
   "cell_type": "code",
   "execution_count": 3,
   "id": "1cc7e09d",
   "metadata": {},
   "outputs": [],
   "source": [
    "import sqlite3\n",
    "\n",
    "conn = sqlite3.connect(\"../data/raw/imdb.sqlite\")  # Pfad anpassen, falls nötig\n",
    "basics.to_sql(\"basics\", conn, if_exists=\"replace\", index=False)\n",
    "ratings.to_sql(\"ratings\", conn, if_exists=\"replace\", index=False)\n",
    "conn.close()"
   ]
  }
 ],
 "metadata": {
  "kernelspec": {
   "display_name": "Python 3",
   "language": "python",
   "name": "python3"
  },
  "language_info": {
   "codemirror_mode": {
    "name": "ipython",
    "version": 3
   },
   "file_extension": ".py",
   "mimetype": "text/x-python",
   "name": "python",
   "nbconvert_exporter": "python",
   "pygments_lexer": "ipython3",
   "version": "3.11.12"
  }
 },
 "nbformat": 4,
 "nbformat_minor": 5
}
