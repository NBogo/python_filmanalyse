{
 "cells": [
  {
   "cell_type": "code",
   "execution_count": 9,
   "id": "ab2d54c6",
   "metadata": {},
   "outputs": [
    {
     "name": "stdout",
     "output_type": "stream",
     "text": [
      "1,559,610 Filme geladen\n"
     ]
    },
    {
     "data": {
      "text/html": [
       "<div>\n",
       "<style scoped>\n",
       "    .dataframe tbody tr th:only-of-type {\n",
       "        vertical-align: middle;\n",
       "    }\n",
       "\n",
       "    .dataframe tbody tr th {\n",
       "        vertical-align: top;\n",
       "    }\n",
       "\n",
       "    .dataframe thead th {\n",
       "        text-align: right;\n",
       "    }\n",
       "</style>\n",
       "<table border=\"1\" class=\"dataframe\">\n",
       "  <thead>\n",
       "    <tr style=\"text-align: right;\">\n",
       "      <th></th>\n",
       "      <th>tconst</th>\n",
       "      <th>primaryTitle</th>\n",
       "      <th>startYear</th>\n",
       "      <th>genres</th>\n",
       "      <th>averageRating</th>\n",
       "      <th>numVotes</th>\n",
       "    </tr>\n",
       "  </thead>\n",
       "  <tbody>\n",
       "    <tr>\n",
       "      <th>0</th>\n",
       "      <td>tt0000001</td>\n",
       "      <td>Carmencita</td>\n",
       "      <td>1894</td>\n",
       "      <td>Documentary,Short</td>\n",
       "      <td>5.7</td>\n",
       "      <td>2149</td>\n",
       "    </tr>\n",
       "    <tr>\n",
       "      <th>1</th>\n",
       "      <td>tt0000002</td>\n",
       "      <td>Le clown et ses chiens</td>\n",
       "      <td>1892</td>\n",
       "      <td>Animation,Short</td>\n",
       "      <td>5.5</td>\n",
       "      <td>291</td>\n",
       "    </tr>\n",
       "    <tr>\n",
       "      <th>2</th>\n",
       "      <td>tt0000003</td>\n",
       "      <td>Poor Pierrot</td>\n",
       "      <td>1892</td>\n",
       "      <td>Animation,Comedy,Romance</td>\n",
       "      <td>6.5</td>\n",
       "      <td>2186</td>\n",
       "    </tr>\n",
       "    <tr>\n",
       "      <th>3</th>\n",
       "      <td>tt0000004</td>\n",
       "      <td>Un bon bock</td>\n",
       "      <td>1892</td>\n",
       "      <td>Animation,Short</td>\n",
       "      <td>5.3</td>\n",
       "      <td>187</td>\n",
       "    </tr>\n",
       "    <tr>\n",
       "      <th>4</th>\n",
       "      <td>tt0000005</td>\n",
       "      <td>Blacksmith Scene</td>\n",
       "      <td>1893</td>\n",
       "      <td>Short</td>\n",
       "      <td>6.2</td>\n",
       "      <td>2932</td>\n",
       "    </tr>\n",
       "  </tbody>\n",
       "</table>\n",
       "</div>"
      ],
      "text/plain": [
       "      tconst            primaryTitle  startYear                    genres  \\\n",
       "0  tt0000001              Carmencita       1894         Documentary,Short   \n",
       "1  tt0000002  Le clown et ses chiens       1892           Animation,Short   \n",
       "2  tt0000003            Poor Pierrot       1892  Animation,Comedy,Romance   \n",
       "3  tt0000004             Un bon bock       1892           Animation,Short   \n",
       "4  tt0000005        Blacksmith Scene       1893                     Short   \n",
       "\n",
       "   averageRating  numVotes  \n",
       "0            5.7      2149  \n",
       "1            5.5       291  \n",
       "2            6.5      2186  \n",
       "3            5.3       187  \n",
       "4            6.2      2932  "
      ]
     },
     "execution_count": 9,
     "metadata": {},
     "output_type": "execute_result"
    }
   ],
   "source": [
    "import sqlite3\n",
    "import pandas as pd\n",
    "\n",
    "# Da wir im Ordner `notebooks/` sind, gilt:\n",
    "DB_PATH = \"../data/raw/imdb.sqlite\"\n",
    "\n",
    "conn = sqlite3.connect(DB_PATH)\n",
    "df = pd.read_sql_query(\n",
    "    \"\"\"\n",
    "    SELECT\n",
    "      b.tconst,\n",
    "      b.primaryTitle,\n",
    "      b.startYear,\n",
    "      b.genres,\n",
    "      r.averageRating,\n",
    "      r.numVotes\n",
    "    FROM basics b\n",
    "    JOIN ratings r USING(tconst)\n",
    "    WHERE b.startYear IS NOT NULL\n",
    "    \"\"\",\n",
    "    conn\n",
    ")\n",
    "conn.close()\n",
    "\n",
    "print(f\"{len(df):,} Filme geladen\")\n",
    "df.head()"
   ]
  },
  {
   "cell_type": "markdown",
   "id": "d429b32c",
   "metadata": {},
   "source": [
    "# Filme Behalten und fehlende Jahresangaben entfernen"
   ]
  },
  {
   "cell_type": "markdown",
   "id": "ee7f7c1b",
   "metadata": {},
   "source": [
    "## Duplikate prüfen"
   ]
  },
  {
   "cell_type": "code",
   "execution_count": 4,
   "id": "d5b9b454",
   "metadata": {},
   "outputs": [
    {
     "ename": "NameError",
     "evalue": "name 'df' is not defined",
     "output_type": "error",
     "traceback": [
      "\u001b[31m---------------------------------------------------------------------------\u001b[39m",
      "\u001b[31mNameError\u001b[39m                                 Traceback (most recent call last)",
      "\u001b[36mCell\u001b[39m\u001b[36m \u001b[39m\u001b[32mIn[4]\u001b[39m\u001b[32m, line 1\u001b[39m\n\u001b[32m----> \u001b[39m\u001b[32m1\u001b[39m dupes = \u001b[43mdf\u001b[49m[df.duplicated(subset=\u001b[33m\"\u001b[39m\u001b[33mtconst\u001b[39m\u001b[33m\"\u001b[39m, keep=\u001b[38;5;28;01mFalse\u001b[39;00m)]\n\u001b[32m      2\u001b[39m \u001b[38;5;28mprint\u001b[39m(\u001b[33m\"\u001b[39m\u001b[33mDuplikate:\u001b[39m\u001b[33m\"\u001b[39m, \u001b[38;5;28mlen\u001b[39m(dupes))\n",
      "\u001b[31mNameError\u001b[39m: name 'df' is not defined"
     ]
    }
   ],
   "source": [
    "dupes = df[df.duplicated(subset=\"tconst\", keep=False)]\n",
    "print(\"Duplikate:\", len(dupes))"
   ]
  },
  {
   "cell_type": "markdown",
   "id": "38dca3e8",
   "metadata": {},
   "source": [
    "## Genres aufsplitten & Missing-Genres markieren"
   ]
  },
  {
   "cell_type": "code",
   "execution_count": null,
   "id": "0d8d4b6e",
   "metadata": {},
   "outputs": [
    {
     "name": "stdout",
     "output_type": "stream",
     "text": [
      "ohne Genre: 22216\n"
     ]
    }
   ],
   "source": [
    "print(\"ohne Genre:\", df[\"genres\"].isna().sum())\n",
    "\n",
    "# Explode für spätere Genre‑Analysen\n",
    "df_genres = (\n",
    "    df.assign(genre=df[\"genres\"].str.split(\",\"))\n",
    "      .explode(\"genre\")\n",
    "      .dropna(subset=[\"genre\"])\n",
    ")"
   ]
  },
  {
   "cell_type": "markdown",
   "id": "b1da8c81",
   "metadata": {},
   "source": [
    "## Typen prüfen & konvertieren"
   ]
  },
  {
   "cell_type": "code",
   "execution_count": null,
   "id": "e0c0b16b",
   "metadata": {},
   "outputs": [
    {
     "name": "stdout",
     "output_type": "stream",
     "text": [
      "tconst            object\n",
      "titleType         object\n",
      "primaryTitle      object\n",
      "startYear          int64\n",
      "genres            object\n",
      "averageRating    float64\n",
      "numVotes           int64\n",
      "dtype: object\n"
     ]
    }
   ],
   "source": [
    "print(df.dtypes)"
   ]
  },
  {
   "cell_type": "markdown",
   "id": "223b090d",
   "metadata": {},
   "source": [
    "## Ausreisser - Check"
   ]
  },
  {
   "cell_type": "code",
   "execution_count": 7,
   "id": "3ae9b28d",
   "metadata": {},
   "outputs": [
    {
     "data": {
      "text/html": [
       "<div>\n",
       "<style scoped>\n",
       "    .dataframe tbody tr th:only-of-type {\n",
       "        vertical-align: middle;\n",
       "    }\n",
       "\n",
       "    .dataframe tbody tr th {\n",
       "        vertical-align: top;\n",
       "    }\n",
       "\n",
       "    .dataframe thead th {\n",
       "        text-align: right;\n",
       "    }\n",
       "</style>\n",
       "<table border=\"1\" class=\"dataframe\">\n",
       "  <thead>\n",
       "    <tr style=\"text-align: right;\">\n",
       "      <th></th>\n",
       "      <th>tconst</th>\n",
       "      <th>primaryTitle</th>\n",
       "      <th>startYear</th>\n",
       "      <th>genres</th>\n",
       "      <th>averageRating</th>\n",
       "      <th>numVotes</th>\n",
       "    </tr>\n",
       "  </thead>\n",
       "  <tbody>\n",
       "    <tr>\n",
       "      <th>2931</th>\n",
       "      <td>tt0008863</td>\n",
       "      <td>The Battle Royal</td>\n",
       "      <td>1918</td>\n",
       "      <td>Comedy,Short</td>\n",
       "      <td>10.0</td>\n",
       "      <td>10</td>\n",
       "    </tr>\n",
       "    <tr>\n",
       "      <th>38759</th>\n",
       "      <td>tt0058032</td>\n",
       "      <td>Der doppelte Nikolaus</td>\n",
       "      <td>1964</td>\n",
       "      <td>None</td>\n",
       "      <td>9.7</td>\n",
       "      <td>48</td>\n",
       "    </tr>\n",
       "    <tr>\n",
       "      <th>38961</th>\n",
       "      <td>tt0058258</td>\n",
       "      <td>Katharina Knie - Ein Seiltänzerstück</td>\n",
       "      <td>1964</td>\n",
       "      <td>Drama</td>\n",
       "      <td>9.7</td>\n",
       "      <td>22</td>\n",
       "    </tr>\n",
       "    <tr>\n",
       "      <th>39604</th>\n",
       "      <td>tt0058992</td>\n",
       "      <td>Brooklyn-Ballade</td>\n",
       "      <td>1965</td>\n",
       "      <td>Drama</td>\n",
       "      <td>9.8</td>\n",
       "      <td>15</td>\n",
       "    </tr>\n",
       "    <tr>\n",
       "      <th>39741</th>\n",
       "      <td>tt0059144</td>\n",
       "      <td>Die eigenen vier Wände</td>\n",
       "      <td>1965</td>\n",
       "      <td>Comedy</td>\n",
       "      <td>9.6</td>\n",
       "      <td>44</td>\n",
       "    </tr>\n",
       "    <tr>\n",
       "      <th>...</th>\n",
       "      <td>...</td>\n",
       "      <td>...</td>\n",
       "      <td>...</td>\n",
       "      <td>...</td>\n",
       "      <td>...</td>\n",
       "      <td>...</td>\n",
       "    </tr>\n",
       "    <tr>\n",
       "      <th>1558468</th>\n",
       "      <td>tt9890390</td>\n",
       "      <td>Puppy Honey EP.6</td>\n",
       "      <td>2016</td>\n",
       "      <td>Romance</td>\n",
       "      <td>9.8</td>\n",
       "      <td>7</td>\n",
       "    </tr>\n",
       "    <tr>\n",
       "      <th>1558559</th>\n",
       "      <td>tt9892336</td>\n",
       "      <td>The Hollywood Reporter's Official Live Golden ...</td>\n",
       "      <td>2019</td>\n",
       "      <td>Talk-Show</td>\n",
       "      <td>9.9</td>\n",
       "      <td>2827</td>\n",
       "    </tr>\n",
       "    <tr>\n",
       "      <th>1558837</th>\n",
       "      <td>tt9898836</td>\n",
       "      <td>Perfect Game</td>\n",
       "      <td>2019</td>\n",
       "      <td>Action,Adventure,Animation</td>\n",
       "      <td>9.8</td>\n",
       "      <td>93850</td>\n",
       "    </tr>\n",
       "    <tr>\n",
       "      <th>1558889</th>\n",
       "      <td>tt9899898</td>\n",
       "      <td>I Do Not!</td>\n",
       "      <td>2022</td>\n",
       "      <td>Comedy,Short</td>\n",
       "      <td>9.6</td>\n",
       "      <td>6</td>\n",
       "    </tr>\n",
       "    <tr>\n",
       "      <th>1559120</th>\n",
       "      <td>tt9906260</td>\n",
       "      <td>Hero</td>\n",
       "      <td>2019</td>\n",
       "      <td>Action,Adventure,Animation</td>\n",
       "      <td>9.8</td>\n",
       "      <td>144659</td>\n",
       "    </tr>\n",
       "  </tbody>\n",
       "</table>\n",
       "<p>20503 rows × 6 columns</p>\n",
       "</div>"
      ],
      "text/plain": [
       "            tconst                                       primaryTitle  \\\n",
       "2931     tt0008863                                   The Battle Royal   \n",
       "38759    tt0058032                              Der doppelte Nikolaus   \n",
       "38961    tt0058258               Katharina Knie - Ein Seiltänzerstück   \n",
       "39604    tt0058992                                   Brooklyn-Ballade   \n",
       "39741    tt0059144                             Die eigenen vier Wände   \n",
       "...            ...                                                ...   \n",
       "1558468  tt9890390                                   Puppy Honey EP.6   \n",
       "1558559  tt9892336  The Hollywood Reporter's Official Live Golden ...   \n",
       "1558837  tt9898836                                       Perfect Game   \n",
       "1558889  tt9899898                                          I Do Not!   \n",
       "1559120  tt9906260                                               Hero   \n",
       "\n",
       "         startYear                      genres  averageRating  numVotes  \n",
       "2931          1918                Comedy,Short           10.0        10  \n",
       "38759         1964                        None            9.7        48  \n",
       "38961         1964                       Drama            9.7        22  \n",
       "39604         1965                       Drama            9.8        15  \n",
       "39741         1965                      Comedy            9.6        44  \n",
       "...            ...                         ...            ...       ...  \n",
       "1558468       2016                     Romance            9.8         7  \n",
       "1558559       2019                   Talk-Show            9.9      2827  \n",
       "1558837       2019  Action,Adventure,Animation            9.8     93850  \n",
       "1558889       2022                Comedy,Short            9.6         6  \n",
       "1559120       2019  Action,Adventure,Animation            9.8    144659  \n",
       "\n",
       "[20503 rows x 6 columns]"
      ]
     },
     "execution_count": 7,
     "metadata": {},
     "output_type": "execute_result"
    }
   ],
   "source": [
    "df.nlargest(10, \"numVotes\")[[\"primaryTitle\",\"numVotes\"]]\n",
    "df[df[\"averageRating\"]>9.5] "
   ]
  }
 ],
 "metadata": {
  "kernelspec": {
   "display_name": ".venv",
   "language": "python",
   "name": "python3"
  },
  "language_info": {
   "codemirror_mode": {
    "name": "ipython",
    "version": 3
   },
   "file_extension": ".py",
   "mimetype": "text/x-python",
   "name": "python",
   "nbconvert_exporter": "python",
   "pygments_lexer": "ipython3",
   "version": "3.11.12"
  }
 },
 "nbformat": 4,
 "nbformat_minor": 5
}
