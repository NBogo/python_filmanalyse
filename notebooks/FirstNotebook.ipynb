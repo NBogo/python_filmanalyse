{
 "cells": [
  {
   "cell_type": "code",
   "execution_count": 4,
   "id": "ab2d54c6",
   "metadata": {},
   "outputs": [
    {
     "ename": "DatabaseError",
     "evalue": "Execution failed on sql '\n    SELECT\n      b.tconst,\n      b.primaryTitle,\n      b.startYear,\n      b.genres,\n      r.averageRating,\n      r.numVotes\n    FROM basics b\n    JOIN ratings r USING(tconst)\n    WHERE b.startYear IS NOT NULL\n    ': file is not a database",
     "output_type": "error",
     "traceback": [
      "\u001b[31m---------------------------------------------------------------------------\u001b[39m",
      "\u001b[31mDatabaseError\u001b[39m                             Traceback (most recent call last)",
      "\u001b[36mFile \u001b[39m\u001b[32m~/.local/lib/python3.11/site-packages/pandas/io/sql.py:2674\u001b[39m, in \u001b[36mSQLiteDatabase.execute\u001b[39m\u001b[34m(self, sql, params)\u001b[39m\n\u001b[32m   2673\u001b[39m \u001b[38;5;28;01mtry\u001b[39;00m:\n\u001b[32m-> \u001b[39m\u001b[32m2674\u001b[39m     \u001b[43mcur\u001b[49m\u001b[43m.\u001b[49m\u001b[43mexecute\u001b[49m\u001b[43m(\u001b[49m\u001b[43msql\u001b[49m\u001b[43m,\u001b[49m\u001b[43m \u001b[49m\u001b[43m*\u001b[49m\u001b[43margs\u001b[49m\u001b[43m)\u001b[49m\n\u001b[32m   2675\u001b[39m     \u001b[38;5;28;01mreturn\u001b[39;00m cur\n",
      "\u001b[31mDatabaseError\u001b[39m: file is not a database",
      "\nThe above exception was the direct cause of the following exception:\n",
      "\u001b[31mDatabaseError\u001b[39m                             Traceback (most recent call last)",
      "\u001b[36mCell\u001b[39m\u001b[36m \u001b[39m\u001b[32mIn[4]\u001b[39m\u001b[32m, line 8\u001b[39m\n\u001b[32m      5\u001b[39m DB_PATH = \u001b[33m\"\u001b[39m\u001b[33m../data/raw/imdb.sqlite\u001b[39m\u001b[33m\"\u001b[39m\n\u001b[32m      7\u001b[39m conn = sqlite3.connect(DB_PATH)\n\u001b[32m----> \u001b[39m\u001b[32m8\u001b[39m df = \u001b[43mpd\u001b[49m\u001b[43m.\u001b[49m\u001b[43mread_sql_query\u001b[49m\u001b[43m(\u001b[49m\n\u001b[32m      9\u001b[39m \u001b[38;5;250;43m    \u001b[39;49m\u001b[33;43;03m\"\"\"\u001b[39;49;00m\n\u001b[32m     10\u001b[39m \u001b[33;43;03m    SELECT\u001b[39;49;00m\n\u001b[32m     11\u001b[39m \u001b[33;43;03m      b.tconst,\u001b[39;49;00m\n\u001b[32m     12\u001b[39m \u001b[33;43;03m      b.primaryTitle,\u001b[39;49;00m\n\u001b[32m     13\u001b[39m \u001b[33;43;03m      b.startYear,\u001b[39;49;00m\n\u001b[32m     14\u001b[39m \u001b[33;43;03m      b.genres,\u001b[39;49;00m\n\u001b[32m     15\u001b[39m \u001b[33;43;03m      r.averageRating,\u001b[39;49;00m\n\u001b[32m     16\u001b[39m \u001b[33;43;03m      r.numVotes\u001b[39;49;00m\n\u001b[32m     17\u001b[39m \u001b[33;43;03m    FROM basics b\u001b[39;49;00m\n\u001b[32m     18\u001b[39m \u001b[33;43;03m    JOIN ratings r USING(tconst)\u001b[39;49;00m\n\u001b[32m     19\u001b[39m \u001b[33;43;03m    WHERE b.startYear IS NOT NULL\u001b[39;49;00m\n\u001b[32m     20\u001b[39m \u001b[33;43;03m    \"\"\"\u001b[39;49;00m\u001b[43m,\u001b[49m\n\u001b[32m     21\u001b[39m \u001b[43m    \u001b[49m\u001b[43mconn\u001b[49m\n\u001b[32m     22\u001b[39m \u001b[43m)\u001b[49m\n\u001b[32m     23\u001b[39m conn.close()\n\u001b[32m     25\u001b[39m \u001b[38;5;28mprint\u001b[39m(\u001b[33mf\u001b[39m\u001b[33m\"\u001b[39m\u001b[38;5;132;01m{\u001b[39;00m\u001b[38;5;28mlen\u001b[39m(df)\u001b[38;5;132;01m:\u001b[39;00m\u001b[33m,\u001b[39m\u001b[38;5;132;01m}\u001b[39;00m\u001b[33m Filme geladen\u001b[39m\u001b[33m\"\u001b[39m)\n",
      "\u001b[36mFile \u001b[39m\u001b[32m~/.local/lib/python3.11/site-packages/pandas/io/sql.py:526\u001b[39m, in \u001b[36mread_sql_query\u001b[39m\u001b[34m(sql, con, index_col, coerce_float, params, parse_dates, chunksize, dtype, dtype_backend)\u001b[39m\n\u001b[32m    523\u001b[39m \u001b[38;5;28;01massert\u001b[39;00m dtype_backend \u001b[38;5;129;01mis\u001b[39;00m \u001b[38;5;129;01mnot\u001b[39;00m lib.no_default\n\u001b[32m    525\u001b[39m \u001b[38;5;28;01mwith\u001b[39;00m pandasSQL_builder(con) \u001b[38;5;28;01mas\u001b[39;00m pandas_sql:\n\u001b[32m--> \u001b[39m\u001b[32m526\u001b[39m     \u001b[38;5;28;01mreturn\u001b[39;00m \u001b[43mpandas_sql\u001b[49m\u001b[43m.\u001b[49m\u001b[43mread_query\u001b[49m\u001b[43m(\u001b[49m\n\u001b[32m    527\u001b[39m \u001b[43m        \u001b[49m\u001b[43msql\u001b[49m\u001b[43m,\u001b[49m\n\u001b[32m    528\u001b[39m \u001b[43m        \u001b[49m\u001b[43mindex_col\u001b[49m\u001b[43m=\u001b[49m\u001b[43mindex_col\u001b[49m\u001b[43m,\u001b[49m\n\u001b[32m    529\u001b[39m \u001b[43m        \u001b[49m\u001b[43mparams\u001b[49m\u001b[43m=\u001b[49m\u001b[43mparams\u001b[49m\u001b[43m,\u001b[49m\n\u001b[32m    530\u001b[39m \u001b[43m        \u001b[49m\u001b[43mcoerce_float\u001b[49m\u001b[43m=\u001b[49m\u001b[43mcoerce_float\u001b[49m\u001b[43m,\u001b[49m\n\u001b[32m    531\u001b[39m \u001b[43m        \u001b[49m\u001b[43mparse_dates\u001b[49m\u001b[43m=\u001b[49m\u001b[43mparse_dates\u001b[49m\u001b[43m,\u001b[49m\n\u001b[32m    532\u001b[39m \u001b[43m        \u001b[49m\u001b[43mchunksize\u001b[49m\u001b[43m=\u001b[49m\u001b[43mchunksize\u001b[49m\u001b[43m,\u001b[49m\n\u001b[32m    533\u001b[39m \u001b[43m        \u001b[49m\u001b[43mdtype\u001b[49m\u001b[43m=\u001b[49m\u001b[43mdtype\u001b[49m\u001b[43m,\u001b[49m\n\u001b[32m    534\u001b[39m \u001b[43m        \u001b[49m\u001b[43mdtype_backend\u001b[49m\u001b[43m=\u001b[49m\u001b[43mdtype_backend\u001b[49m\u001b[43m,\u001b[49m\n\u001b[32m    535\u001b[39m \u001b[43m    \u001b[49m\u001b[43m)\u001b[49m\n",
      "\u001b[36mFile \u001b[39m\u001b[32m~/.local/lib/python3.11/site-packages/pandas/io/sql.py:2738\u001b[39m, in \u001b[36mSQLiteDatabase.read_query\u001b[39m\u001b[34m(self, sql, index_col, coerce_float, parse_dates, params, chunksize, dtype, dtype_backend)\u001b[39m\n\u001b[32m   2727\u001b[39m \u001b[38;5;28;01mdef\u001b[39;00m\u001b[38;5;250m \u001b[39m\u001b[34mread_query\u001b[39m(\n\u001b[32m   2728\u001b[39m     \u001b[38;5;28mself\u001b[39m,\n\u001b[32m   2729\u001b[39m     sql,\n\u001b[32m   (...)\u001b[39m\u001b[32m   2736\u001b[39m     dtype_backend: DtypeBackend | Literal[\u001b[33m\"\u001b[39m\u001b[33mnumpy\u001b[39m\u001b[33m\"\u001b[39m] = \u001b[33m\"\u001b[39m\u001b[33mnumpy\u001b[39m\u001b[33m\"\u001b[39m,\n\u001b[32m   2737\u001b[39m ) -> DataFrame | Iterator[DataFrame]:\n\u001b[32m-> \u001b[39m\u001b[32m2738\u001b[39m     cursor = \u001b[38;5;28;43mself\u001b[39;49m\u001b[43m.\u001b[49m\u001b[43mexecute\u001b[49m\u001b[43m(\u001b[49m\u001b[43msql\u001b[49m\u001b[43m,\u001b[49m\u001b[43m \u001b[49m\u001b[43mparams\u001b[49m\u001b[43m)\u001b[49m\n\u001b[32m   2739\u001b[39m     columns = [col_desc[\u001b[32m0\u001b[39m] \u001b[38;5;28;01mfor\u001b[39;00m col_desc \u001b[38;5;129;01min\u001b[39;00m cursor.description]\n\u001b[32m   2741\u001b[39m     \u001b[38;5;28;01mif\u001b[39;00m chunksize \u001b[38;5;129;01mis\u001b[39;00m \u001b[38;5;129;01mnot\u001b[39;00m \u001b[38;5;28;01mNone\u001b[39;00m:\n",
      "\u001b[36mFile \u001b[39m\u001b[32m~/.local/lib/python3.11/site-packages/pandas/io/sql.py:2686\u001b[39m, in \u001b[36mSQLiteDatabase.execute\u001b[39m\u001b[34m(self, sql, params)\u001b[39m\n\u001b[32m   2683\u001b[39m     \u001b[38;5;28;01mraise\u001b[39;00m ex \u001b[38;5;28;01mfrom\u001b[39;00m\u001b[38;5;250m \u001b[39m\u001b[34;01minner_exc\u001b[39;00m\n\u001b[32m   2685\u001b[39m ex = DatabaseError(\u001b[33mf\u001b[39m\u001b[33m\"\u001b[39m\u001b[33mExecution failed on sql \u001b[39m\u001b[33m'\u001b[39m\u001b[38;5;132;01m{\u001b[39;00msql\u001b[38;5;132;01m}\u001b[39;00m\u001b[33m'\u001b[39m\u001b[33m: \u001b[39m\u001b[38;5;132;01m{\u001b[39;00mexc\u001b[38;5;132;01m}\u001b[39;00m\u001b[33m\"\u001b[39m)\n\u001b[32m-> \u001b[39m\u001b[32m2686\u001b[39m \u001b[38;5;28;01mraise\u001b[39;00m ex \u001b[38;5;28;01mfrom\u001b[39;00m\u001b[38;5;250m \u001b[39m\u001b[34;01mexc\u001b[39;00m\n",
      "\u001b[31mDatabaseError\u001b[39m: Execution failed on sql '\n    SELECT\n      b.tconst,\n      b.primaryTitle,\n      b.startYear,\n      b.genres,\n      r.averageRating,\n      r.numVotes\n    FROM basics b\n    JOIN ratings r USING(tconst)\n    WHERE b.startYear IS NOT NULL\n    ': file is not a database"
     ]
    }
   ],
   "source": [
    "import sqlite3\n",
    "import pandas as pd\n",
    "\n",
    "# Da wir im Ordner `notebooks/` sind, gilt:\n",
    "DB_PATH = \"../data/raw/imdb.sqlite\"\n",
    "\n",
    "conn = sqlite3.connect(DB_PATH)\n",
    "df = pd.read_sql_query(\n",
    "    \"\"\"\n",
    "    SELECT\n",
    "      b.tconst,\n",
    "      b.primaryTitle,\n",
    "      b.startYear,\n",
    "      b.genres,\n",
    "      r.averageRating,\n",
    "      r.numVotes\n",
    "    FROM basics b\n",
    "    JOIN ratings r USING(tconst)\n",
    "    WHERE b.startYear IS NOT NULL\n",
    "    \"\"\",\n",
    "    conn\n",
    ")\n",
    "conn.close()\n",
    "\n",
    "print(f\"{len(df):,} Filme geladen\")\n",
    "df.head()"
   ]
  },
  {
   "cell_type": "markdown",
   "id": "d429b32c",
   "metadata": {},
   "source": [
    "# Filme Behalten und fehlende Jahresangaben entfernen"
   ]
  },
  {
   "cell_type": "markdown",
   "id": "ee7f7c1b",
   "metadata": {},
   "source": [
    "## Duplikate prüfen"
   ]
  },
  {
   "cell_type": "code",
   "execution_count": 4,
   "id": "d5b9b454",
   "metadata": {},
   "outputs": [
    {
     "ename": "NameError",
     "evalue": "name 'df' is not defined",
     "output_type": "error",
     "traceback": [
      "\u001b[31m---------------------------------------------------------------------------\u001b[39m",
      "\u001b[31mNameError\u001b[39m                                 Traceback (most recent call last)",
      "\u001b[36mCell\u001b[39m\u001b[36m \u001b[39m\u001b[32mIn[4]\u001b[39m\u001b[32m, line 1\u001b[39m\n\u001b[32m----> \u001b[39m\u001b[32m1\u001b[39m dupes = \u001b[43mdf\u001b[49m[df.duplicated(subset=\u001b[33m\"\u001b[39m\u001b[33mtconst\u001b[39m\u001b[33m\"\u001b[39m, keep=\u001b[38;5;28;01mFalse\u001b[39;00m)]\n\u001b[32m      2\u001b[39m \u001b[38;5;28mprint\u001b[39m(\u001b[33m\"\u001b[39m\u001b[33mDuplikate:\u001b[39m\u001b[33m\"\u001b[39m, \u001b[38;5;28mlen\u001b[39m(dupes))\n",
      "\u001b[31mNameError\u001b[39m: name 'df' is not defined"
     ]
    }
   ],
   "source": [
    "dupes = df[df.duplicated(subset=\"tconst\", keep=False)]\n",
    "print(\"Duplikate:\", len(dupes))"
   ]
  },
  {
   "cell_type": "markdown",
   "id": "38dca3e8",
   "metadata": {},
   "source": [
    "## Genres aufsplitten & Missing-Genres markieren"
   ]
  },
  {
   "cell_type": "code",
   "execution_count": null,
   "id": "0d8d4b6e",
   "metadata": {},
   "outputs": [
    {
     "name": "stdout",
     "output_type": "stream",
     "text": [
      "ohne Genre: 22216\n"
     ]
    }
   ],
   "source": [
    "print(\"ohne Genre:\", df[\"genres\"].isna().sum())\n",
    "\n",
    "# Explode für spätere Genre‑Analysen\n",
    "df_genres = (\n",
    "    df.assign(genre=df[\"genres\"].str.split(\",\"))\n",
    "      .explode(\"genre\")\n",
    "      .dropna(subset=[\"genre\"])\n",
    ")"
   ]
  },
  {
   "cell_type": "markdown",
   "id": "b1da8c81",
   "metadata": {},
   "source": [
    "## Typen prüfen & konvertieren"
   ]
  },
  {
   "cell_type": "code",
   "execution_count": null,
   "id": "e0c0b16b",
   "metadata": {},
   "outputs": [
    {
     "name": "stdout",
     "output_type": "stream",
     "text": [
      "tconst            object\n",
      "titleType         object\n",
      "primaryTitle      object\n",
      "startYear          int64\n",
      "genres            object\n",
      "averageRating    float64\n",
      "numVotes           int64\n",
      "dtype: object\n"
     ]
    }
   ],
   "source": [
    "print(df.dtypes)"
   ]
  },
  {
   "cell_type": "markdown",
   "id": "223b090d",
   "metadata": {},
   "source": [
    "## Ausreisser - Check"
   ]
  },
  {
   "cell_type": "code",
   "execution_count": 7,
   "id": "3ae9b28d",
   "metadata": {},
   "outputs": [
    {
     "data": {
      "text/html": [
       "<div>\n",
       "<style scoped>\n",
       "    .dataframe tbody tr th:only-of-type {\n",
       "        vertical-align: middle;\n",
       "    }\n",
       "\n",
       "    .dataframe tbody tr th {\n",
       "        vertical-align: top;\n",
       "    }\n",
       "\n",
       "    .dataframe thead th {\n",
       "        text-align: right;\n",
       "    }\n",
       "</style>\n",
       "<table border=\"1\" class=\"dataframe\">\n",
       "  <thead>\n",
       "    <tr style=\"text-align: right;\">\n",
       "      <th></th>\n",
       "      <th>tconst</th>\n",
       "      <th>primaryTitle</th>\n",
       "      <th>startYear</th>\n",
       "      <th>genres</th>\n",
       "      <th>averageRating</th>\n",
       "      <th>numVotes</th>\n",
       "    </tr>\n",
       "  </thead>\n",
       "  <tbody>\n",
       "    <tr>\n",
       "      <th>2931</th>\n",
       "      <td>tt0008863</td>\n",
       "      <td>The Battle Royal</td>\n",
       "      <td>1918</td>\n",
       "      <td>Comedy,Short</td>\n",
       "      <td>10.0</td>\n",
       "      <td>10</td>\n",
       "    </tr>\n",
       "    <tr>\n",
       "      <th>38759</th>\n",
       "      <td>tt0058032</td>\n",
       "      <td>Der doppelte Nikolaus</td>\n",
       "      <td>1964</td>\n",
       "      <td>None</td>\n",
       "      <td>9.7</td>\n",
       "      <td>48</td>\n",
       "    </tr>\n",
       "    <tr>\n",
       "      <th>38961</th>\n",
       "      <td>tt0058258</td>\n",
       "      <td>Katharina Knie - Ein Seiltänzerstück</td>\n",
       "      <td>1964</td>\n",
       "      <td>Drama</td>\n",
       "      <td>9.7</td>\n",
       "      <td>22</td>\n",
       "    </tr>\n",
       "    <tr>\n",
       "      <th>39604</th>\n",
       "      <td>tt0058992</td>\n",
       "      <td>Brooklyn-Ballade</td>\n",
       "      <td>1965</td>\n",
       "      <td>Drama</td>\n",
       "      <td>9.8</td>\n",
       "      <td>15</td>\n",
       "    </tr>\n",
       "    <tr>\n",
       "      <th>39741</th>\n",
       "      <td>tt0059144</td>\n",
       "      <td>Die eigenen vier Wände</td>\n",
       "      <td>1965</td>\n",
       "      <td>Comedy</td>\n",
       "      <td>9.6</td>\n",
       "      <td>44</td>\n",
       "    </tr>\n",
       "    <tr>\n",
       "      <th>...</th>\n",
       "      <td>...</td>\n",
       "      <td>...</td>\n",
       "      <td>...</td>\n",
       "      <td>...</td>\n",
       "      <td>...</td>\n",
       "      <td>...</td>\n",
       "    </tr>\n",
       "    <tr>\n",
       "      <th>1558468</th>\n",
       "      <td>tt9890390</td>\n",
       "      <td>Puppy Honey EP.6</td>\n",
       "      <td>2016</td>\n",
       "      <td>Romance</td>\n",
       "      <td>9.8</td>\n",
       "      <td>7</td>\n",
       "    </tr>\n",
       "    <tr>\n",
       "      <th>1558559</th>\n",
       "      <td>tt9892336</td>\n",
       "      <td>The Hollywood Reporter's Official Live Golden ...</td>\n",
       "      <td>2019</td>\n",
       "      <td>Talk-Show</td>\n",
       "      <td>9.9</td>\n",
       "      <td>2827</td>\n",
       "    </tr>\n",
       "    <tr>\n",
       "      <th>1558837</th>\n",
       "      <td>tt9898836</td>\n",
       "      <td>Perfect Game</td>\n",
       "      <td>2019</td>\n",
       "      <td>Action,Adventure,Animation</td>\n",
       "      <td>9.8</td>\n",
       "      <td>93850</td>\n",
       "    </tr>\n",
       "    <tr>\n",
       "      <th>1558889</th>\n",
       "      <td>tt9899898</td>\n",
       "      <td>I Do Not!</td>\n",
       "      <td>2022</td>\n",
       "      <td>Comedy,Short</td>\n",
       "      <td>9.6</td>\n",
       "      <td>6</td>\n",
       "    </tr>\n",
       "    <tr>\n",
       "      <th>1559120</th>\n",
       "      <td>tt9906260</td>\n",
       "      <td>Hero</td>\n",
       "      <td>2019</td>\n",
       "      <td>Action,Adventure,Animation</td>\n",
       "      <td>9.8</td>\n",
       "      <td>144659</td>\n",
       "    </tr>\n",
       "  </tbody>\n",
       "</table>\n",
       "<p>20503 rows × 6 columns</p>\n",
       "</div>"
      ],
      "text/plain": [
       "            tconst                                       primaryTitle  \\\n",
       "2931     tt0008863                                   The Battle Royal   \n",
       "38759    tt0058032                              Der doppelte Nikolaus   \n",
       "38961    tt0058258               Katharina Knie - Ein Seiltänzerstück   \n",
       "39604    tt0058992                                   Brooklyn-Ballade   \n",
       "39741    tt0059144                             Die eigenen vier Wände   \n",
       "...            ...                                                ...   \n",
       "1558468  tt9890390                                   Puppy Honey EP.6   \n",
       "1558559  tt9892336  The Hollywood Reporter's Official Live Golden ...   \n",
       "1558837  tt9898836                                       Perfect Game   \n",
       "1558889  tt9899898                                          I Do Not!   \n",
       "1559120  tt9906260                                               Hero   \n",
       "\n",
       "         startYear                      genres  averageRating  numVotes  \n",
       "2931          1918                Comedy,Short           10.0        10  \n",
       "38759         1964                        None            9.7        48  \n",
       "38961         1964                       Drama            9.7        22  \n",
       "39604         1965                       Drama            9.8        15  \n",
       "39741         1965                      Comedy            9.6        44  \n",
       "...            ...                         ...            ...       ...  \n",
       "1558468       2016                     Romance            9.8         7  \n",
       "1558559       2019                   Talk-Show            9.9      2827  \n",
       "1558837       2019  Action,Adventure,Animation            9.8     93850  \n",
       "1558889       2022                Comedy,Short            9.6         6  \n",
       "1559120       2019  Action,Adventure,Animation            9.8    144659  \n",
       "\n",
       "[20503 rows x 6 columns]"
      ]
     },
     "execution_count": 7,
     "metadata": {},
     "output_type": "execute_result"
    }
   ],
   "source": [
    "df.nlargest(10, \"numVotes\")[[\"primaryTitle\",\"numVotes\"]]\n",
    "df[df[\"averageRating\"]>9.5] "
   ]
  }
 ],
 "metadata": {
  "kernelspec": {
   "display_name": "Python 3",
   "language": "python",
   "name": "python3"
  },
  "language_info": {
   "codemirror_mode": {
    "name": "ipython",
    "version": 3
   },
   "file_extension": ".py",
   "mimetype": "text/x-python",
   "name": "python",
   "nbconvert_exporter": "python",
   "pygments_lexer": "ipython3",
   "version": "3.11.12"
  }
 },
 "nbformat": 4,
 "nbformat_minor": 5
}
