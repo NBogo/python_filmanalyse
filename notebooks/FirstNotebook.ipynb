{
 "cells": [
  {
   "cell_type": "code",
   "execution_count": 1,
   "id": "ab2d54c6",
   "metadata": {},
   "outputs": [
    {
     "name": "stdout",
     "output_type": "stream",
     "text": [
      "330,102 Filme geladen\n"
     ]
    },
    {
     "data": {
      "text/html": [
       "<div>\n",
       "<style scoped>\n",
       "    .dataframe tbody tr th:only-of-type {\n",
       "        vertical-align: middle;\n",
       "    }\n",
       "\n",
       "    .dataframe tbody tr th {\n",
       "        vertical-align: top;\n",
       "    }\n",
       "\n",
       "    .dataframe thead th {\n",
       "        text-align: right;\n",
       "    }\n",
       "</style>\n",
       "<table border=\"1\" class=\"dataframe\">\n",
       "  <thead>\n",
       "    <tr style=\"text-align: right;\">\n",
       "      <th></th>\n",
       "      <th>tconst</th>\n",
       "      <th>primaryTitle</th>\n",
       "      <th>startYear</th>\n",
       "      <th>genres</th>\n",
       "      <th>averageRating</th>\n",
       "      <th>numVotes</th>\n",
       "    </tr>\n",
       "  </thead>\n",
       "  <tbody>\n",
       "    <tr>\n",
       "      <th>0</th>\n",
       "      <td>tt0000009</td>\n",
       "      <td>Miss Jerry</td>\n",
       "      <td>1894</td>\n",
       "      <td>Romance</td>\n",
       "      <td>5.4</td>\n",
       "      <td>224</td>\n",
       "    </tr>\n",
       "    <tr>\n",
       "      <th>1</th>\n",
       "      <td>tt0000147</td>\n",
       "      <td>The Corbett-Fitzsimmons Fight</td>\n",
       "      <td>1897</td>\n",
       "      <td>Documentary,News,Sport</td>\n",
       "      <td>5.3</td>\n",
       "      <td>558</td>\n",
       "    </tr>\n",
       "    <tr>\n",
       "      <th>2</th>\n",
       "      <td>tt0000502</td>\n",
       "      <td>Bohemios</td>\n",
       "      <td>1905</td>\n",
       "      <td>None</td>\n",
       "      <td>3.8</td>\n",
       "      <td>21</td>\n",
       "    </tr>\n",
       "    <tr>\n",
       "      <th>3</th>\n",
       "      <td>tt0000574</td>\n",
       "      <td>The Story of the Kelly Gang</td>\n",
       "      <td>1906</td>\n",
       "      <td>Action,Adventure,Biography</td>\n",
       "      <td>6.0</td>\n",
       "      <td>986</td>\n",
       "    </tr>\n",
       "    <tr>\n",
       "      <th>4</th>\n",
       "      <td>tt0000591</td>\n",
       "      <td>The Prodigal Son</td>\n",
       "      <td>1907</td>\n",
       "      <td>Drama</td>\n",
       "      <td>5.6</td>\n",
       "      <td>31</td>\n",
       "    </tr>\n",
       "  </tbody>\n",
       "</table>\n",
       "</div>"
      ],
      "text/plain": [
       "      tconst                   primaryTitle startYear  \\\n",
       "0  tt0000009                     Miss Jerry      1894   \n",
       "1  tt0000147  The Corbett-Fitzsimmons Fight      1897   \n",
       "2  tt0000502                       Bohemios      1905   \n",
       "3  tt0000574    The Story of the Kelly Gang      1906   \n",
       "4  tt0000591               The Prodigal Son      1907   \n",
       "\n",
       "                       genres  averageRating  numVotes  \n",
       "0                     Romance            5.4       224  \n",
       "1      Documentary,News,Sport            5.3       558  \n",
       "2                        None            3.8        21  \n",
       "3  Action,Adventure,Biography            6.0       986  \n",
       "4                       Drama            5.6        31  "
      ]
     },
     "execution_count": 1,
     "metadata": {},
     "output_type": "execute_result"
    }
   ],
   "source": [
    "import sqlite3\n",
    "import pandas as pd\n",
    "\n",
    "# Da wir im Ordner `notebooks/` sind, gilt:\n",
    "DB_PATH = \"../data/raw/imdb.sqlite\"\n",
    "\n",
    "conn = sqlite3.connect(DB_PATH)\n",
    "df = pd.read_sql_query(\n",
    "    \"\"\"\n",
    "    SELECT\n",
    "      b.tconst,\n",
    "      b.primaryTitle,\n",
    "      b.startYear,\n",
    "      b.genres,\n",
    "      r.averageRating,\n",
    "      r.numVotes\n",
    "    FROM basics b\n",
    "    JOIN ratings r USING(tconst)\n",
    "    WHERE b.startYear IS NOT NULL\n",
    "    \"\"\",\n",
    "    conn\n",
    ")\n",
    "conn.close()\n",
    "\n",
    "print(f\"{len(df):,} Filme geladen\")\n",
    "df.head()"
   ]
  },
  {
   "cell_type": "markdown",
   "id": "d429b32c",
   "metadata": {},
   "source": [
    "# Filme Behalten und fehlende Jahresangaben entfernen"
   ]
  },
  {
   "cell_type": "markdown",
   "id": "ee7f7c1b",
   "metadata": {},
   "source": [
    "## Duplikate prüfen"
   ]
  },
  {
   "cell_type": "code",
   "execution_count": 2,
   "id": "d5b9b454",
   "metadata": {},
   "outputs": [
    {
     "name": "stdout",
     "output_type": "stream",
     "text": [
      "Duplikate: 0\n"
     ]
    }
   ],
   "source": [
    "dupes = df[df.duplicated(subset=\"tconst\", keep=False)]\n",
    "print(\"Duplikate:\", len(dupes))"
   ]
  },
  {
   "cell_type": "markdown",
   "id": "38dca3e8",
   "metadata": {},
   "source": [
    "## Genres aufsplitten & Missing-Genres markieren"
   ]
  },
  {
   "cell_type": "code",
   "execution_count": 3,
   "id": "0d8d4b6e",
   "metadata": {},
   "outputs": [
    {
     "name": "stdout",
     "output_type": "stream",
     "text": [
      "ohne Genre: 11088\n"
     ]
    }
   ],
   "source": [
    "print(\"ohne Genre:\", df[\"genres\"].isna().sum())\n",
    "\n",
    "# Explode für spätere Genre‑Analysen\n",
    "df_genres = (\n",
    "    df.assign(genre=df[\"genres\"].str.split(\",\"))\n",
    "      .explode(\"genre\")\n",
    "      .dropna(subset=[\"genre\"])\n",
    ")"
   ]
  },
  {
   "cell_type": "markdown",
   "id": "b1da8c81",
   "metadata": {},
   "source": [
    "## Typen prüfen & konvertieren"
   ]
  },
  {
   "cell_type": "code",
   "execution_count": 4,
   "id": "e0c0b16b",
   "metadata": {},
   "outputs": [
    {
     "name": "stdout",
     "output_type": "stream",
     "text": [
      "tconst            object\n",
      "primaryTitle      object\n",
      "startYear         object\n",
      "genres            object\n",
      "averageRating    float64\n",
      "numVotes           int64\n",
      "dtype: object\n"
     ]
    }
   ],
   "source": [
    "print(df.dtypes)"
   ]
  },
  {
   "cell_type": "markdown",
   "id": "223b090d",
   "metadata": {},
   "source": [
    "## Ausreisser - Check"
   ]
  },
  {
   "cell_type": "code",
   "execution_count": 5,
   "id": "3ae9b28d",
   "metadata": {},
   "outputs": [
    {
     "data": {
      "text/html": [
       "<div>\n",
       "<style scoped>\n",
       "    .dataframe tbody tr th:only-of-type {\n",
       "        vertical-align: middle;\n",
       "    }\n",
       "\n",
       "    .dataframe tbody tr th {\n",
       "        vertical-align: top;\n",
       "    }\n",
       "\n",
       "    .dataframe thead th {\n",
       "        text-align: right;\n",
       "    }\n",
       "</style>\n",
       "<table border=\"1\" class=\"dataframe\">\n",
       "  <thead>\n",
       "    <tr style=\"text-align: right;\">\n",
       "      <th></th>\n",
       "      <th>tconst</th>\n",
       "      <th>primaryTitle</th>\n",
       "      <th>startYear</th>\n",
       "      <th>genres</th>\n",
       "      <th>averageRating</th>\n",
       "      <th>numVotes</th>\n",
       "    </tr>\n",
       "  </thead>\n",
       "  <tbody>\n",
       "    <tr>\n",
       "      <th>65705</th>\n",
       "      <td>tt0117319</td>\n",
       "      <td>Pepper's Pow Wow</td>\n",
       "      <td>1996</td>\n",
       "      <td>Documentary</td>\n",
       "      <td>9.6</td>\n",
       "      <td>8</td>\n",
       "    </tr>\n",
       "    <tr>\n",
       "      <th>70299</th>\n",
       "      <td>tt0128058</td>\n",
       "      <td>Au-delà de 120 ans avec Jeanne Calment</td>\n",
       "      <td>1995</td>\n",
       "      <td>Documentary</td>\n",
       "      <td>9.8</td>\n",
       "      <td>8</td>\n",
       "    </tr>\n",
       "    <tr>\n",
       "      <th>77690</th>\n",
       "      <td>tt0156768</td>\n",
       "      <td>Manik Raitong</td>\n",
       "      <td>1984</td>\n",
       "      <td>None</td>\n",
       "      <td>9.8</td>\n",
       "      <td>8</td>\n",
       "    </tr>\n",
       "    <tr>\n",
       "      <th>82118</th>\n",
       "      <td>tt0173749</td>\n",
       "      <td>Csonka Bereg</td>\n",
       "      <td>1989</td>\n",
       "      <td>Documentary</td>\n",
       "      <td>9.8</td>\n",
       "      <td>6</td>\n",
       "    </tr>\n",
       "    <tr>\n",
       "      <th>86869</th>\n",
       "      <td>tt0187784</td>\n",
       "      <td>Chronique paysanne en Gruyère</td>\n",
       "      <td>1991</td>\n",
       "      <td>Documentary</td>\n",
       "      <td>9.6</td>\n",
       "      <td>5</td>\n",
       "    </tr>\n",
       "    <tr>\n",
       "      <th>...</th>\n",
       "      <td>...</td>\n",
       "      <td>...</td>\n",
       "      <td>...</td>\n",
       "      <td>...</td>\n",
       "      <td>...</td>\n",
       "      <td>...</td>\n",
       "    </tr>\n",
       "    <tr>\n",
       "      <th>328839</th>\n",
       "      <td>tt9686178</td>\n",
       "      <td>The Best Years Ever</td>\n",
       "      <td>1994</td>\n",
       "      <td>Documentary</td>\n",
       "      <td>9.6</td>\n",
       "      <td>108</td>\n",
       "    </tr>\n",
       "    <tr>\n",
       "      <th>328903</th>\n",
       "      <td>tt9695398</td>\n",
       "      <td>Six Locked Doors: The Legacy of Cocoanut Grove</td>\n",
       "      <td>2021</td>\n",
       "      <td>Documentary,History</td>\n",
       "      <td>9.7</td>\n",
       "      <td>11</td>\n",
       "    </tr>\n",
       "    <tr>\n",
       "      <th>329062</th>\n",
       "      <td>tt9731750</td>\n",
       "      <td>Die Abrissbirnen</td>\n",
       "      <td>2019</td>\n",
       "      <td>Comedy,Drama</td>\n",
       "      <td>9.7</td>\n",
       "      <td>8</td>\n",
       "    </tr>\n",
       "    <tr>\n",
       "      <th>329129</th>\n",
       "      <td>tt9742160</td>\n",
       "      <td>Finite Water</td>\n",
       "      <td>2019</td>\n",
       "      <td>Documentary</td>\n",
       "      <td>9.7</td>\n",
       "      <td>17</td>\n",
       "    </tr>\n",
       "    <tr>\n",
       "      <th>329177</th>\n",
       "      <td>tt9753072</td>\n",
       "      <td>As If They Were Angels</td>\n",
       "      <td>2018</td>\n",
       "      <td>Documentary</td>\n",
       "      <td>9.6</td>\n",
       "      <td>14</td>\n",
       "    </tr>\n",
       "  </tbody>\n",
       "</table>\n",
       "<p>705 rows × 6 columns</p>\n",
       "</div>"
      ],
      "text/plain": [
       "           tconst                                    primaryTitle startYear  \\\n",
       "65705   tt0117319                                Pepper's Pow Wow      1996   \n",
       "70299   tt0128058          Au-delà de 120 ans avec Jeanne Calment      1995   \n",
       "77690   tt0156768                                   Manik Raitong      1984   \n",
       "82118   tt0173749                                    Csonka Bereg      1989   \n",
       "86869   tt0187784                   Chronique paysanne en Gruyère      1991   \n",
       "...           ...                                             ...       ...   \n",
       "328839  tt9686178                             The Best Years Ever      1994   \n",
       "328903  tt9695398  Six Locked Doors: The Legacy of Cocoanut Grove      2021   \n",
       "329062  tt9731750                                Die Abrissbirnen      2019   \n",
       "329129  tt9742160                                    Finite Water      2019   \n",
       "329177  tt9753072                          As If They Were Angels      2018   \n",
       "\n",
       "                     genres  averageRating  numVotes  \n",
       "65705           Documentary            9.6         8  \n",
       "70299           Documentary            9.8         8  \n",
       "77690                  None            9.8         8  \n",
       "82118           Documentary            9.8         6  \n",
       "86869           Documentary            9.6         5  \n",
       "...                     ...            ...       ...  \n",
       "328839          Documentary            9.6       108  \n",
       "328903  Documentary,History            9.7        11  \n",
       "329062         Comedy,Drama            9.7         8  \n",
       "329129          Documentary            9.7        17  \n",
       "329177          Documentary            9.6        14  \n",
       "\n",
       "[705 rows x 6 columns]"
      ]
     },
     "execution_count": 5,
     "metadata": {},
     "output_type": "execute_result"
    }
   ],
   "source": [
    "df.nlargest(10, \"numVotes\")[[\"primaryTitle\",\"numVotes\"]]\n",
    "df[df[\"averageRating\"]>9.5] "
   ]
  }
 ],
 "metadata": {
  "kernelspec": {
   "display_name": "Python 3",
   "language": "python",
   "name": "python3"
  },
  "language_info": {
   "codemirror_mode": {
    "name": "ipython",
    "version": 3
   },
   "file_extension": ".py",
   "mimetype": "text/x-python",
   "name": "python",
   "nbconvert_exporter": "python",
   "pygments_lexer": "ipython3",
   "version": "3.11.12"
  }
 },
 "nbformat": 4,
 "nbformat_minor": 5
}
